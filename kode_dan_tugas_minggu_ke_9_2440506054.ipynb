{
  "nbformat": 4,
  "nbformat_minor": 0,
  "metadata": {
    "colab": {
      "provenance": [],
      "authorship_tag": "ABX9TyOJYDLRNPECHGoAR5bpdph/",
      "include_colab_link": true
    },
    "kernelspec": {
      "name": "python3",
      "display_name": "Python 3"
    },
    "language_info": {
      "name": "python"
    }
  },
  "cells": [
    {
      "cell_type": "markdown",
      "metadata": {
        "id": "view-in-github",
        "colab_type": "text"
      },
      "source": [
        "<a href=\"https://colab.research.google.com/github/Whdfs23/Tugas-dan-latihan/blob/main/kode_dan_tugas_minggu_ke_9_2440506054.ipynb\" target=\"_parent\"><img src=\"https://colab.research.google.com/assets/colab-badge.svg\" alt=\"Open In Colab\"/></a>"
      ]
    },
    {
      "cell_type": "markdown",
      "source": [
        "**List:** List adalah struktur data yang dapat menyimpan banyak nilai dan dapat diubah. List ditandai dengan tanda kurung siku [ ].\n",
        " Contoh: nama_mahasiswa = [\"DANA\", \"HUSSIN\", \"FIRMANSYAH\"].\n",
        "\n",
        "**Tuple:** Tuple adalah struktur data yang dapat menyimpan banyak nilai, tetapi tidak dapat diubah. Tuple ditandai dengan tanda kurung (). Contoh: nama_mahasiswa = (\"Widyadana\", \"Hussin\", \"Firmansyah\").\n",
        "\n",
        "**Set:** Set adalah struktur data yang dapat menyimpan banyak nilai unik dan tidak dapat diubah. Set ditandai dengan tanda kurung { }.\n",
        " Contoh: hobi = {\"MEMBACA\", \"NGODING\", \"BERMAIN GAME\"}\n",
        "\n",
        "**Dictionary:** Dictionary adalah struktur data yang dapat menyimpan banyak nilai dengan key-value. Dictionary ditandai dengan tanda kurung { }. Contoh: mahasiswa = {\"nama\": \"DANA\", \"kelas\": \"ROMBEL 2\"}.\n"
      ],
      "metadata": {
        "id": "pt4YMlu8USfD"
      }
    },
    {
      "cell_type": "code",
      "execution_count": null,
      "metadata": {
        "id": "416WKL-lUKxe"
      },
      "outputs": [],
      "source": [
        "#DATA MAHASISWA\n",
        "mahasiswa = {\n",
        "    \"nama\": \"Widyadana Hussin Firmansyah\",\n",
        "    \"kelas\": \"Rombel 2\",\n",
        "    \"tanggal_lahir\": \"23-04-2005\",\n",
        "    \"no_hp\": \"08956069402\",\n",
        "    \"alamat\": \"Jln Urip Sumoharjo, Kota Magelang\",\n",
        "    \"Hobi\": [\"Membaca\", \"Belajar hal baru\", \"Bermain game\",\"Persenjataan\",\"Olahraga\", \"Mobil\"]\n",
        "}\n",
        "\n",
        "# Tampilkan seluruh data dengan menggunakan perulangan / looping\n",
        "for key, value in mahasiswa.items():\n",
        "    if key == \"Hobi\":\n",
        "        print(f\"{key.capitalize()}:\")\n",
        "        for hobi in value:\n",
        "            print(f\"- {hobi}\")\n",
        "    else:\n",
        "        print(f\"{key.capitalize()}: {value}\")"
      ]
    }
  ]
}