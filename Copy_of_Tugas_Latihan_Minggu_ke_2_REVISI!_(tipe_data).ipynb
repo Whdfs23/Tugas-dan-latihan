{
  "nbformat": 4,
  "nbformat_minor": 0,
  "metadata": {
    "colab": {
      "provenance": [],
      "include_colab_link": true
    },
    "kernelspec": {
      "name": "python3",
      "display_name": "Python 3"
    },
    "language_info": {
      "name": "python"
    }
  },
  "cells": [
    {
      "cell_type": "markdown",
      "metadata": {
        "id": "view-in-github",
        "colab_type": "text"
      },
      "source": [
        "<a href=\"https://colab.research.google.com/github/Whdfs23/Tugas-dan-latihan/blob/main/Copy_of_Tugas_Latihan_Minggu_ke_2_REVISI!_(tipe_data).ipynb\" target=\"_parent\"><img src=\"https://colab.research.google.com/assets/colab-badge.svg\" alt=\"Open In Colab\"/></a>"
      ]
    },
    {
      "cell_type": "code",
      "source": [
        "#Tugas 1 Tipe data (Memperbaiki codingan yang tidak bisa jalan/eror/ada kesalahan)\n",
        "panjang = 20.5\n",
        "lebar = 25\n",
        "tinggi = 10\n",
        "\n",
        "keliling = 2 * (panjang + lebar)\n",
        "luas = panjang * lebar\n",
        "volume = panjang * lebar * tinggi\n",
        "\n",
        "print (\"Panjang =\", panjang)\n",
        "print (\"Lebar =\", lebar)\n",
        "print (\"Tinggi =\", tinggi)\n",
        "print (\"Keliling =\", keliling)\n",
        "print (\"Volume =\", volume)"
      ],
      "metadata": {
        "colab": {
          "base_uri": "https://localhost:8080/"
        },
        "id": "SUotkSyMcLOI",
        "outputId": "c666f29d-b8ef-41d1-e086-1a5417138e93"
      },
      "execution_count": null,
      "outputs": [
        {
          "output_type": "stream",
          "name": "stdout",
          "text": [
            "Panjang = 20.5\n",
            "Lebar = 25\n",
            "Tinggi = 10\n",
            "Keliling = 91.0\n",
            "Volume = 5125.0\n"
          ]
        }
      ]
    },
    {
      "cell_type": "code",
      "source": [
        "#Tugas 2 Tipe data\n",
        "nilai_shafira = (85 + 75)/2\n",
        "print(\"Nilai Shafira\", nilai_shafira)\n",
        "\n",
        "# Jumlah nilai Hanif dan Andi untuk semua mata kuliah\n",
        "nilai_hanif = (75+90)\n",
        "nilai_andi = (70+75)\n",
        "jumlah_nilai_hanif_andi = nilai_hanif + nilai_andi\n",
        "print(\"Jumlah nilai Hanif dan Andi:\", jumlah_nilai_hanif_andi)\n",
        "\n",
        "# Rata-rata nilai Widya, Dhanar, Hikma dan Nedia pada masing-masing mata kuliah\n",
        "rata_rata_nilai_Widya_Dhanar_Hikma_dan_Nedia_Masing_masing_Matkul_Kalkulus =(85+85+80+90)/4\n",
        "print(\"Rata-rata nilai kalkulus dari 4 siswa\", rata_rata_nilai_Widya_Dhanar_Hikma_dan_Nedia_Masing_masing_Matkul_Kalkulus)\n",
        "\n",
        "rata_rata_nilai_Widya_Dhanar_Hikma_dan_Nedia_Masing_masing_Matkul_Statistika =(85+85+75+80)/4\n",
        "print(\"Rata-rata nilai statisika dari 4 siswa tersebut\", rata_rata_nilai_Widya_Dhanar_Hikma_dan_Nedia_Masing_masing_Matkul_Statistika)                                #rata_rata nilai Hanif = (75+90)/2.\n",
        "\n",
        "# Rata-rata nilai kalkulus 1 pada semua siswa\n",
        "rata_rata_nilai_Kalkulus_1_semua_siswa = (85+80+75+95+85+75+70+85+80)/9\n",
        "print (\"Rata-rata nilai Kalkulus 1\", rata_rata_nilai_Kalkulus_1_semua_siswa)\n",
        "\n",
        "# Rata-rata nilai statistika pada semua siswa\n",
        "rata_rata_nilai_Metode_Statistika_semua_siswa = (75+90+80+80+85+90+75+85+75)/9\n",
        "print (\"Rata-rata nilai Metode Statiska 1\", rata_rata_nilai_Metode_Statistika_semua_siswa)"
      ],
      "metadata": {
        "colab": {
          "base_uri": "https://localhost:8080/"
        },
        "id": "SKHqKzFwcShe",
        "outputId": "153eeb77-172b-45f9-9cf3-a063bd3b3540"
      },
      "execution_count": null,
      "outputs": [
        {
          "output_type": "stream",
          "name": "stdout",
          "text": [
            "Nilai Shafira 80.0\n",
            "Jumlah nilai Hanif dan Andi: 310\n",
            "Rata-rata nilai kalkulus dari 4 siswa 85.0\n",
            "Rata-rata nilai statisika dari 4 siswa tersebut 81.25\n",
            "Rata-rata nilai Kalkulus 1 81.11111111111111\n",
            "Rata-rata nilai Metode Statiska 1 81.66666666666667\n"
          ]
        }
      ]
    },
    {
      "cell_type": "code",
      "source": [
        "#Diketahui Dwi adalah seorang karyawan pabrik swasta yang telah bekerja selama 10 tahun. Setiap hari Dwi bekerja selama 8 jam. Prosedur penerimaan honor dari perusahaan ditentukan dengan cara jumlah jam masuk dikali dengan Rp 30.000,-.\n",
        "\n",
        "#Buatlah sebuah program untuk menampilkan data berikut:\n",
        "\n",
        "#Gaji pada bulan Agustus jika Dwi tidak masuk kerja selama 3 hari, berapa gaji yang diterima oleh Dwi.\n",
        "#Apabila terdapat tunjangan bagi karyawan yang bekerja lebih dari 5 tahun sebesar 10% dari total gaji yang diterima setiap bulan, tentukan jumlah tunjangan yang diterima oleh Dwi pada bulan Agustus.\n",
        "#Apabila pada bulan Agustus Dwi mendapatkan tugas lembur selama 5 jam, tentukan gaji total yang diterima oleh Dwi pada bulan Agustus. (upah lembur : Rp 10.000,- per jam)\n",
        "\n",
        "#Tugas 3 Tipe data\n",
        "#1. Gaji yang diterima Dwi pada bulan Agustus\n",
        "\n",
        "jam_kerja_per_hari = 8 #jam kerja total satu hari\n",
        "uang_gaji_dihitung_per_jam = 30000 #penerimaan honor per jam\n",
        "satu_bulan_kerja = 31 #total hari dalam 1 bulan kerja\n",
        "absen_tidak_masuk_kerja = 3 #total tidak masuk kerja\n",
        "\n",
        "hari_kerja = satu_bulan_kerja-absen_tidak_masuk_kerja #atau bisa langsung mengisikan dengan angka\n",
        "print (\"jumlah hari kerja\", hari_kerja)\n",
        "\n",
        "total_jam_kerja = hari_kerja*jam_kerja_per_hari #karena sudah ada hasil dari hari kerja, jadi tinggal di kalikan hari kerja yang di kurangi 3 hari tidak masuk kerja dengan total jam kerja 1 hari\n",
        "print (\"jumlah total jam kerja\", total_jam_kerja)\n",
        "\n",
        "penghasilan_satu_bulan = total_jam_kerja*uang_gaji_dihitung_per_jam #karena dwi absen 3 hari tidak berangkat bekerja, maka dalam 1 bulan hanya 28 hari dari total jam kerja yang dikalikan dengan upah selama per satu jam\n",
        "print (\"Total gaji yang diterima Dwi bulan Agustus\", penghasilan_satu_bulan)\n",
        "\n",
        "\n",
        "#2 Tunjangan karyawan\n",
        "Tunjangan_karyawan = 10/100\n",
        "Total_gaji_karyawan = 6720000\n",
        "\n",
        "tunjangan_bulan_Agustus = Tunjangan_karyawan*Total_gaji_karyawan\n",
        "print (\"Tunjangan Dwi 10% karena dia sudah 10 tahun bekerja =\", tunjangan_bulan_Agustus)\n",
        "\n",
        "\n",
        "\n",
        "#3 Upah lembur\n",
        "jam_lembur = 5\n",
        "Gaji_dwi_satu_bulan = 6720000\n",
        "upah_lembur_per_jam = 10000\n",
        "\n",
        "total_lembur = jam_lembur*upah_lembur_per_jam\n",
        "total_lembur\n",
        "\n",
        "total_gaji_dwi = total_lembur + Gaji_dwi_satu_bulan + tunjangan_bulan_Agustus\n",
        "print (\"Total gaji Dwi =\", total_gaji_dwi)"
      ],
      "metadata": {
        "colab": {
          "base_uri": "https://localhost:8080/"
        },
        "id": "8tvTC5OEco4i",
        "outputId": "6f8df5b8-6b79-435a-ab8b-6885819ae21e"
      },
      "execution_count": null,
      "outputs": [
        {
          "output_type": "stream",
          "name": "stdout",
          "text": [
            "jumlah hari kerja 28\n",
            "jumlah total jam kerja 224\n",
            "Total gaji yang diterima Dwi bulan Agustus 6720000\n",
            "Tunjangan Dwi 10% karena dia sudah 10 tahun bekerja = 672000.0\n",
            "Total gaji Dwi = 7442000.0\n"
          ]
        }
      ]
    }
  ]
}