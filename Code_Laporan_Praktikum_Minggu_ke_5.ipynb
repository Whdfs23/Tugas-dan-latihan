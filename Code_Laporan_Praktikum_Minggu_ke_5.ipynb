{
  "cells": [
    {
      "cell_type": "markdown",
      "metadata": {
        "id": "view-in-github",
        "colab_type": "text"
      },
      "source": [
        "<a href=\"https://colab.research.google.com/github/Whdfs23/Tugas-dan-latihan/blob/main/Code_Laporan_Praktikum_Minggu_ke_5.ipynb\" target=\"_parent\"><img src=\"https://colab.research.google.com/assets/colab-badge.svg\" alt=\"Open In Colab\"/></a>"
      ]
    },
    {
      "cell_type": "markdown",
      "metadata": {
        "id": "LlJKW7A7J9oJ"
      },
      "source": [
        "Tugas Weekly 1\n",
        "\n"
      ]
    },
    {
      "cell_type": "code",
      "execution_count": null,
      "metadata": {
        "colab": {
          "background_save": true
        },
        "id": "hjBwlg2SJwjR"
      },
      "outputs": [],
      "source": [
        "# Meminta input dari pengguna\n",
        "tahun = int(input(\"Masukkan tahun: \"))\n",
        "\n",
        "# Mengecek apakah tahun kabisat atau bukan\n",
        "if (tahun % 4 == 0):\n",
        "    if (tahun % 100 == 0):\n",
        "        if (tahun % 400 == 0):\n",
        "            print(f\"Tahun {tahun} adalah tahun kabisat.\")\n",
        "        else:\n",
        "            print(f\"Tahun {tahun} bukan tahun kabisat.\")\n",
        "    else:\n",
        "        print(f\"Tahun {tahun} adalah tahun kabisat.\")\n",
        "else:\n",
        "    print(f\"Tahun {tahun} bukan tahun kabisat.\")\n"
      ]
    },
    {
      "cell_type": "markdown",
      "metadata": {
        "id": "sjx68ZiFKBuu"
      },
      "source": [
        "Tugas Weekly 2"
      ]
    },
    {
      "cell_type": "code",
      "execution_count": 2,
      "metadata": {
        "id": "6ZK67YZPJzGK",
        "colab": {
          "base_uri": "https://localhost:8080/"
        },
        "outputId": "9cf8d7bf-96e5-4ebb-b4a8-ad79a2ddc36a"
      },
      "outputs": [
        {
          "output_type": "stream",
          "name": "stdout",
          "text": [
            "Silakan masukkan angka ketiga: 12\n",
            "Angka pertama: 1\n",
            "Angka kedua: 3\n",
            "Angka ketiga: 12\n",
            "Angka terbesar di antara ketiga angka tersebut adalah: 12\n"
          ]
        }
      ],
      "source": [
        "# Meminta input dari pengguna\n",
        "angka1 = input(\"Silakan masukkan angka pertama: \")\n",
        "angka2 = input(\"Silakan masukkan angka kedua: \")\n",
        "angka3 = input(\"Silakan masukkan angka ketiga: \")\n",
        "\n",
        "try:\n",
        "    # Mengonversi input menjadi integer\n",
        "    angka1 = int(angka1)\n",
        "    angka2 = int(angka2)\n",
        "    angka3 = int(angka3)\n",
        "\n",
        "    # Menentukan angka terbesar\n",
        "    if angka1 >= angka2 and angka1 >= angka3:\n",
        "        terbesar = angka1\n",
        "    elif angka2 >= angka1 and angka2 >= angka3:\n",
        "        terbesar = angka2\n",
        "    else:\n",
        "        terbesar = angka3\n",
        "\n",
        "    # Menampilkan hasil\n",
        "    print(f\"Angka pertama: {angka1}\")\n",
        "    print(f\"Angka kedua: {angka2}\")\n",
        "    print(f\"Angka ketiga: {angka3}\")\n",
        "    print(f\"Angka terbesar di antara ketiga angka tersebut adalah: {terbesar}\")\n",
        "\n",
        "except ValueError:\n",
        "    print(\"Input yang dimasukkan bukan merupakan angka yang valid.\")\n"
      ]
    },
    {
      "cell_type": "markdown",
      "metadata": {
        "id": "7P9PFbiLKEJm"
      },
      "source": [
        "Tugas Weekly 3"
      ]
    },
    {
      "cell_type": "code",
      "execution_count": null,
      "metadata": {
        "id": "Ip30VJQ2J1Kq",
        "colab": {
          "base_uri": "https://localhost:8080/"
        },
        "outputId": "11f9e51b-c2b5-40e2-cf0e-c55550193a1f"
      },
      "outputs": [
        {
          "name": "stdout",
          "output_type": "stream",
          "text": [
            "Masukkan total belanja: 10000\n"
          ]
        }
      ],
      "source": [
        "def hitung_total_bayaran(total_belanja, konsumen_member):\n",
        "    diskon = 0\n",
        "\n",
        "    # Diskon berdasarkan total belanja\n",
        "    if total_belanja > 200000:\n",
        "        diskon += 4  # Diskon 4%\n",
        "    elif total_belanja > 100000:\n",
        "        diskon += 3  # Diskon 3%\n",
        "\n",
        "    # Tambahan diskon jika konsumen adalah member\n",
        "    if konsumen_member:\n",
        "        diskon += 2  # Diskon tambahan 2% untuk member\n",
        "\n",
        "    # Menghitung total setelah diskon\n",
        "    total_setelah_diskon = total_belanja - (total_belanja * diskon / 100)\n",
        "\n",
        "    return total_setelah_diskon\n",
        "\n",
        "# Contoh penggunaan\n",
        "total_belanja = float(input(\"Masukkan total belanja: \"))\n",
        "konsumen_member = input(\"Apakah konsumen member (ya/tidak)? \").lower() == \"ya\"\n",
        "\n",
        "total_yang_dibayar = hitung_total_bayaran(total_belanja, konsumen_member)\n",
        "print(f\"Total yang harus dibayarkan: Rp {total_yang_dibayar:.2f}\")\n"
      ]
    },
    {
      "cell_type": "markdown",
      "metadata": {
        "id": "umjuzzbzKGbV"
      },
      "source": [
        "Tugas Weekly 4\n"
      ]
    },
    {
      "cell_type": "code",
      "execution_count": null,
      "metadata": {
        "id": "aC3bMRHJJ6zx"
      },
      "outputs": [],
      "source": [
        "username = input(\"Masukkan username: \")\n",
        "email = input(\"Masukkan email: \")\n",
        "password = input(\"Masukkan password: \")\n",
        "\n",
        "if username:\n",
        "    if \"@\" in email:\n",
        "        if len(password) > 8:\n",
        "            print(\"User baru berhasil dibuat.\")\n",
        "        else:\n",
        "            print(\"Password harus lebih dari 8 karakter.\")\n",
        "    else:\n",
        "        print(\"Alamat email harus mengandung '@'.\")\n",
        "else:\n",
        "    print(\"Username tidak boleh kosong.\")"
      ]
    }
  ],
  "metadata": {
    "colab": {
      "provenance": [],
      "authorship_tag": "ABX9TyPXb12J3NTEZvy1dLSfu4st",
      "include_colab_link": true
    },
    "kernelspec": {
      "display_name": "Python 3",
      "name": "python3"
    },
    "language_info": {
      "name": "python"
    }
  },
  "nbformat": 4,
  "nbformat_minor": 0
}