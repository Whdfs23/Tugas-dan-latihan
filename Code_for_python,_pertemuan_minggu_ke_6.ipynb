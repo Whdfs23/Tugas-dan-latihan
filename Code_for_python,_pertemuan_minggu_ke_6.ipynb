{
  "nbformat": 4,
  "nbformat_minor": 0,
  "metadata": {
    "colab": {
      "provenance": [],
      "authorship_tag": "ABX9TyNDfdNoZ/GEDDsRCt0v58hl",
      "include_colab_link": true
    },
    "kernelspec": {
      "name": "python3",
      "display_name": "Python 3"
    },
    "language_info": {
      "name": "python"
    }
  },
  "cells": [
    {
      "cell_type": "markdown",
      "metadata": {
        "id": "view-in-github",
        "colab_type": "text"
      },
      "source": [
        "<a href=\"https://colab.research.google.com/github/Whdfs23/Tugas-dan-latihan/blob/main/Code_for_python%2C_pertemuan_minggu_ke_6.ipynb\" target=\"_parent\"><img src=\"https://colab.research.google.com/assets/colab-badge.svg\" alt=\"Open In Colab\"/></a>"
      ]
    },
    {
      "cell_type": "markdown",
      "source": [
        "WEEKLY EXERCISE 1"
      ],
      "metadata": {
        "id": "UffeE9tCoqUs"
      }
    },
    {
      "cell_type": "code",
      "execution_count": null,
      "metadata": {
        "id": "JvwbD9Jpn-Yu",
        "colab": {
          "base_uri": "https://localhost:8080/"
        },
        "outputId": "ef793d35-4693-47ff-c78c-6842b6f81fec"
      },
      "outputs": [
        {
          "output_type": "stream",
          "name": "stdout",
          "text": [
            "Masukkan jumlah baris: 6\n",
            "     * \n",
            "    * * \n",
            "   * * * \n",
            "  * * * * \n",
            " * * * * * \n",
            "* * * * * * \n"
          ]
        }
      ],
      "source": [
        "baris = int(input(\"Masukkan jumlah baris: \"))\n",
        "\n",
        "for i in range(1, baris + 1):\n",
        "    print(\" \" * (baris - i), end=\"\")\n",
        "    print(\"* \" * i)"
      ]
    },
    {
      "cell_type": "markdown",
      "source": [
        "WEEKLY EXERCISE 2"
      ],
      "metadata": {
        "id": "zXxiR2xrol22"
      }
    },
    {
      "cell_type": "code",
      "source": [
        "jumlah_baris = int(input(\"Masukkan jumlah baris yang akan di looping: \"))\n",
        "for i in range(jumlah_baris):\n",
        "    print(' ' * (jumlah_baris - i - 1), end='')\n",
        "    k = 1\n",
        "    for j in range(i + 1):\n",
        "        print(k, end=' ')\n",
        "        k = k * (i - j) // (j + 1)\n",
        "    print()\n"
      ],
      "metadata": {
        "id": "0jDAN_czoXWr",
        "colab": {
          "base_uri": "https://localhost:8080/"
        },
        "outputId": "3c1ced1d-ae85-4d02-af9e-07310192c91c"
      },
      "execution_count": null,
      "outputs": [
        {
          "output_type": "stream",
          "name": "stdout",
          "text": [
            "Masukkan jumlah baris yang akan di looping: 6\n",
            "     1 \n",
            "    1 1 \n",
            "   1 2 1 \n",
            "  1 3 3 1 \n",
            " 1 4 6 4 1 \n",
            "1 5 10 10 5 1 \n"
          ]
        }
      ]
    },
    {
      "cell_type": "markdown",
      "source": [
        "WEEKLY EXERCISE 3"
      ],
      "metadata": {
        "id": "n_IqZqGnojLw"
      }
    },
    {
      "cell_type": "code",
      "source": [
        "jumlah_baris = int(input(\"Masukkan jumlah baris: \"))\n",
        "pascal = []\n",
        "for i in range(jumlah_baris):\n",
        "    baris = []\n",
        "    for j in range(i + 1):\n",
        "        if j == 0 or j == i:\n",
        "            baris.append(1)\n",
        "        else:\n",
        "            baris.append(pascal[i - 1][j - 1] + pascal[i - 1][j])\n",
        "    pascal.append(baris)\n",
        "if jumlah_baris > 0:\n",
        "    angka_baris_terakhir = pascal[jumlah_baris - 1]\n",
        "    print(\"Angka dalam satu baris Segitiga Pascal adalah:\", end=' ')\n",
        "    for angka in angka_baris_terakhir:\n",
        "        print(angka, end=' ')\n",
        "    print()\n",
        "    jumlah_angka = 0\n",
        "    for angka in angka_baris_terakhir:\n",
        "        jumlah_angka += angka\n",
        "    print(\"Jumlah angka dalam satu baris Segitiga Pascal adalah:\", jumlah_angka)\n",
        "else:\n",
        "    print(\"Jumlah baris harus lebih besar dari angka 0.\")\n"
      ],
      "metadata": {
        "id": "wX9uZxbxoa_Z",
        "colab": {
          "base_uri": "https://localhost:8080/"
        },
        "outputId": "04ac4147-55a4-4a7f-ca85-32abbf542419"
      },
      "execution_count": null,
      "outputs": [
        {
          "output_type": "stream",
          "name": "stdout",
          "text": [
            "Masukkan jumlah baris: 3\n",
            "Angka dalam satu baris Segitiga Pascal adalah: 1 2 1 \n",
            "Jumlah angka dalam satu baris Segitiga Pascal adalah: 4\n"
          ]
        }
      ]
    }
  ]
}