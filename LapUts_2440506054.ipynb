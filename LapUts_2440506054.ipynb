{
  "nbformat": 4,
  "nbformat_minor": 0,
  "metadata": {
    "colab": {
      "provenance": [],
      "authorship_tag": "ABX9TyPy05NjqRObg6NRHmJ9WoY+",
      "include_colab_link": true
    },
    "kernelspec": {
      "name": "python3",
      "display_name": "Python 3"
    },
    "language_info": {
      "name": "python"
    }
  },
  "cells": [
    {
      "cell_type": "markdown",
      "metadata": {
        "id": "view-in-github",
        "colab_type": "text"
      },
      "source": [
        "<a href=\"https://colab.research.google.com/github/Whdfs23/Tugas-dan-latihan/blob/main/LapUts_2440506054.ipynb\" target=\"_parent\"><img src=\"https://colab.research.google.com/assets/colab-badge.svg\" alt=\"Open In Colab\"/></a>"
      ]
    },
    {
      "cell_type": "markdown",
      "source": [
        "Nama = Widyadana Hussin Firmansyah <br>\n",
        "Rombel 3 praktikum <br>\n",
        "Rombel 2 kelas <br>"
      ],
      "metadata": {
        "id": "ZDcDKqkc_Yw7"
      }
    },
    {
      "cell_type": "code",
      "source": [
        "NPM = (input(\"Masukkan NPM :\"))\n",
        "jumlah_genap = 0\n",
        "jumlah_ganjil = 0\n",
        "for angka in NPM :\n",
        "    if int (angka) % 2 == 0 :\n",
        "        jumlah_genap = jumlah_genap + 1\n",
        "    else :\n",
        "        jumlah_ganjil = jumlah_ganjil + 1\n",
        "print (\"Jumlah genap :\", jumlah_genap)\n",
        "print (\"Jumlah ganjil :\", jumlah_ganjil)"
      ],
      "metadata": {
        "colab": {
          "base_uri": "https://localhost:8080/"
        },
        "id": "Hk2I4WcsACvK",
        "outputId": "3cc52ae6-67d6-417f-c1df-1f12a8c9c348"
      },
      "execution_count": null,
      "outputs": [
        {
          "output_type": "stream",
          "name": "stdout",
          "text": [
            "Masukkan NPM :2440506054\n",
            "Jumlah genap : 8\n",
            "Jumlah ganjil : 2\n"
          ]
        }
      ]
    },
    {
      "cell_type": "code",
      "source": [
        "N  = int(input (\"Masukkan Nilai yang ingin dibentuk gunung angka :\"))\n",
        "for i in range (N+1):\n",
        "    panjang = i\n",
        "    for j in range (i):\n",
        "        print (panjang, end = \" \")\n",
        "        panjang += i\n",
        "        if j != i:\n",
        "         print (\"\", end =\"\")\n",
        "    print ()"
      ],
      "metadata": {
        "colab": {
          "base_uri": "https://localhost:8080/"
        },
        "id": "f6C8JwxiAFGp",
        "outputId": "9b7c3044-6cda-4f1e-895d-673652fc80cd"
      },
      "execution_count": null,
      "outputs": [
        {
          "output_type": "stream",
          "name": "stdout",
          "text": [
            "Masukkan Nilai yang ingin dibentuk gunung angka :10\n",
            "\n",
            "1 \n",
            "2 4 \n",
            "3 6 9 \n",
            "4 8 12 16 \n",
            "5 10 15 20 25 \n",
            "6 12 18 24 30 36 \n",
            "7 14 21 28 35 42 49 \n",
            "8 16 24 32 40 48 56 64 \n",
            "9 18 27 36 45 54 63 72 81 \n",
            "10 20 30 40 50 60 70 80 90 100 \n"
          ]
        }
      ]
    }
  ]
}