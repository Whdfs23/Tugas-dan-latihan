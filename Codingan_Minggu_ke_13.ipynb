{
  "nbformat": 4,
  "nbformat_minor": 0,
  "metadata": {
    "colab": {
      "provenance": [],
      "authorship_tag": "ABX9TyM16pYDujdHlNowIGvJ/WQR",
      "include_colab_link": true
    },
    "kernelspec": {
      "name": "python3",
      "display_name": "Python 3"
    },
    "language_info": {
      "name": "python"
    }
  },
  "cells": [
    {
      "cell_type": "markdown",
      "metadata": {
        "id": "view-in-github",
        "colab_type": "text"
      },
      "source": [
        "<a href=\"https://colab.research.google.com/github/Whdfs23/Tugas-dan-latihan/blob/main/Codingan_Minggu_ke_13.ipynb\" target=\"_parent\"><img src=\"https://colab.research.google.com/assets/colab-badge.svg\" alt=\"Open In Colab\"/></a>"
      ]
    },
    {
      "cell_type": "code",
      "execution_count": null,
      "metadata": {
        "id": "Y0idqvsNALSg"
      },
      "outputs": [],
      "source": [
        "class AlatTulis:\n",
        "    def __init__(self, nama, stok, harga_satuan):\n",
        "        self.nama = nama\n",
        "        self.stok = stok\n",
        "        self.harga_satuan = harga_satuan\n",
        "        self.harga = stok * harga_satuan\n",
        "        self.total_harga_transaksi = 0\n",
        "\n",
        "    def set_nama(self, nama):\n",
        "        self.nama = nama\n",
        "\n",
        "    def get_nama(self):\n",
        "        return self.nama\n",
        "\n",
        "    def set_stok(self, stok):\n",
        "        self.stok = stok\n",
        "        self.harga = self.stok * self.harga_satuan\n",
        "\n",
        "    def get_stok(self):\n",
        "        return self.stok\n",
        "\n",
        "    def set_harga_satuan(self, harga_satuan):\n",
        "        self.harga_satuan = harga_satuan\n",
        "        self.harga = self.stok * self.harga_satuan\n",
        "\n",
        "    def get_harga_satuan(self):\n",
        "        return self.harga_satuan\n",
        "\n",
        "    def get_harga(self):\n",
        "        return self.harga\n",
        "\n",
        "    def set_total_harga_transaksi(self, jumlah_yang_terjual):\n",
        "      if jumlah_yang_terjual <= self.stok:\n",
        "        self.total_harga_transaksi = jumlah_yang_terjual * self.harga_satuan\n",
        "        self.stok = jumlah_yang_terjual\n",
        "      else:\n",
        "        print(\"Stok tidak cukup\")\n",
        "\n",
        "    def get_total_harga_transaksi(self):\n",
        "        return self.total_harga_transaksi\n",
        "\n",
        "\n",
        "# Contoh penggunaan\n",
        "bolpoint = AlatTulis(\"Bolpoint\", 10, 2000)\n",
        "pensil = AlatTulis(\"Pensil\", 10, 1000)\n",
        "penghapus = AlatTulis(\"Penghapus\", 10, 500)\n",
        "\n",
        "# Menampilkan informasi awal\n",
        "print(f\"\\nNama: {bolpoint.get_nama()}, \\nStok: {bolpoint.get_stok()}, \\nHarga Satuan: {bolpoint.get_harga_satuan()}, \\nHarga Total: {bolpoint.get_harga()}\")\n",
        "print(f\"\\nNama: {pensil.get_nama()}, \\nStok: {pensil.get_stok()}, \\nHarga Satuan: {pensil.get_harga_satuan()}, \\nHarga Total: {pensil.get_harga()}\")\n",
        "print(f\"\\nNama: {penghapus.get_nama()}, \\nStok: {penghapus.get_stok()}, \\nHarga Satuan: {penghapus.get_harga_satuan()}, \\nHarga Total: {penghapus.get_harga()}\")\n",
        "\n",
        "\n",
        "# Melakukan transaksi\n",
        "bolpoint.set_total_harga_transaksi(5)\n",
        "pensil.set_total_harga_transaksi(3)\n",
        "penghapus.set_total_harga_transaksi(2)\n",
        "\n",
        "# Menampilkan informasi setelah transaksi\n",
        "print(f\"\\nNama: {bolpoint.get_nama()}, \\nStok: {bolpoint.get_stok()}, \\nTotal Harga Transaksi: {bolpoint.get_total_harga_transaksi()}\")\n",
        "print(f\"\\nNama: {pensil.get_nama()}, \\nStok: {pensil.get_stok()}, \\nTotal Harga Transaksi: {pensil.get_total_harga_transaksi()}\")\n",
        "print(f\"\\nNama: {penghapus.get_nama()}, \\nStok: {penghapus.get_stok()}, \\nTotal Harga Transaksi: {penghapus.get_total_harga_transaksi()}\")"
      ]
    }
  ]
}