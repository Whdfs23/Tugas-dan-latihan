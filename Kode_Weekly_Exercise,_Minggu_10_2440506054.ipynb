{
  "cells": [
    {
      "cell_type": "markdown",
      "metadata": {
        "id": "view-in-github",
        "colab_type": "text"
      },
      "source": [
        "<a href=\"https://colab.research.google.com/github/Whdfs23/Tugas-dan-latihan/blob/main/Kode_Weekly_Exercise%2C_Minggu_10_2440506054.ipynb\" target=\"_parent\"><img src=\"https://colab.research.google.com/assets/colab-badge.svg\" alt=\"Open In Colab\"/></a>"
      ]
    },
    {
      "cell_type": "code",
      "execution_count": null,
      "metadata": {
        "id": "lE1pX4v0GEnq",
        "colab": {
          "base_uri": "https://localhost:8080/"
        },
        "outputId": "ea355d18-9975-4bb2-e021-1a32af6bdac6"
      },
      "outputs": [
        {
          "output_type": "stream",
          "name": "stdout",
          "text": [
            "Masukkan bilangan bulat yang tidak bernilai negatif: 5\n",
            "Faktorial dari 5! adalah 120\n"
          ]
        }
      ],
      "source": [
        "def factorial(n):\n",
        "  if n == 0:\n",
        "    return 1\n",
        "  else:\n",
        "    return n * factorial(n-1)\n",
        "\n",
        "bilangan = int(input(\"Masukkan bilangan bulat yang tidak bernilai negatif: \"))\n",
        "\n",
        "if bilangan < 0:\n",
        "  print(\"Faktorial tidak didefinisikan untuk memuat sebuah bilangan negatif.\")\n",
        "else:\n",
        "  print(f\"Faktorial dari {bilangan}! adalah {factorial(bilangan)}\")"
      ]
    },
    {
      "cell_type": "code",
      "execution_count": null,
      "metadata": {
        "colab": {
          "base_uri": "https://localhost:8080/"
        },
        "id": "u17PdKPTGw8J",
        "outputId": "c1353af1-0353-45b2-a090-804c47ddd796"
      },
      "outputs": [
        {
          "output_type": "stream",
          "name": "stdout",
          "text": [
            "\n",
            "Pilih perhitungan:\n",
            "1. Luas Lingkaran\n",
            "2. Luas Persegi\n",
            "3. Luas Segitiga\n",
            "4. Selesai\n",
            "Masukkan pilihan (1/2/3/4): 2\n",
            "Masukkan panjang sisi persegi: 45\n",
            "Luas persegi: 2025.0\n",
            "\n",
            "Pilih perhitungan:\n",
            "1. Luas Lingkaran\n",
            "2. Luas Persegi\n",
            "3. Luas Segitiga\n",
            "4. Selesai\n",
            "Masukkan pilihan (1/2/3/4): 5\n",
            "Pilihan tidak valid. Silakan coba lagi.\n",
            "\n",
            "Pilih perhitungan:\n",
            "1. Luas Lingkaran\n",
            "2. Luas Persegi\n",
            "3. Luas Segitiga\n",
            "4. Selesai\n",
            "Masukkan pilihan (1/2/3/4): 4\n",
            "Program selesai.\n"
          ]
        }
      ],
      "source": [
        "\n",
        "import math\n",
        "\n",
        "def luas_lingkaran(jari_jari):\n",
        "  \"\"\"Menghitung luas lingkaran.\"\"\"\n",
        "  return math.pi * jari_jari**2\n",
        "\n",
        "def luas_persegi(sisi):\n",
        "  \"\"\"Menghitung luas persegi.\"\"\"\n",
        "  return sisi**2\n",
        "\n",
        "def luas_segitiga(alas, tinggi):\n",
        "  \"\"\"Menghitung luas segitiga.\"\"\"\n",
        "  return 0.5 * alas * tinggi\n",
        "\n",
        "while True:\n",
        "  print(\"\\nPilih perhitungan:\")\n",
        "  print(\"1. Luas Lingkaran\")\n",
        "  print(\"2. Luas Persegi\")\n",
        "  print(\"3. Luas Segitiga\")\n",
        "  print(\"4. Selesai\")\n",
        "\n",
        "  pilihan = input(\"Masukkan pilihan (1/2/3/4): \")\n",
        "\n",
        "  if pilihan == '1':\n",
        "    jari_jari = float(input(\"Masukkan jari-jari lingkaran: \"))\n",
        "    luas = luas_lingkaran(jari_jari)\n",
        "    print(f\"Luas lingkaran: {luas}\")\n",
        "  elif pilihan == '2':\n",
        "    sisi = float(input(\"Masukkan panjang sisi persegi: \"))\n",
        "    luas = luas_persegi(sisi)\n",
        "    print(f\"Luas persegi: {luas}\")\n",
        "  elif pilihan == '3':\n",
        "    alas = float(input(\"Masukkan panjang alas segitiga: \"))\n",
        "    tinggi = float(input(\"Masukkan tinggi segitiga: \"))\n",
        "    luas = luas_segitiga(alas, tinggi)\n",
        "    print(f\"Luas segitiga: {luas}\")\n",
        "  elif pilihan == '4':\n",
        "    print(\"Program selesai.\")\n",
        "    break\n",
        "  else:\n",
        "    print(\"Pilihan tidak valid. Silakan coba lagi.\")"
      ]
    }
  ],
  "metadata": {
    "colab": {
      "provenance": [],
      "authorship_tag": "ABX9TyMqPpimMzYBakeb3fHazd2w",
      "include_colab_link": true
    },
    "kernelspec": {
      "display_name": "Python 3",
      "name": "python3"
    },
    "language_info": {
      "name": "python"
    }
  },
  "nbformat": 4,
  "nbformat_minor": 0
}