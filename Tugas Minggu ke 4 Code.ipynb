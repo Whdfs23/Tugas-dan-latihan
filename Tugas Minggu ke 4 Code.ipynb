{
  "cells": [
    {
      "cell_type": "markdown",
      "metadata": {
        "id": "view-in-github",
        "colab_type": "text"
      },
      "source": [
        "<a href=\"https://colab.research.google.com/github/Whdfs23/Tugas-dan-latihan/blob/main/Tugas%20Minggu%20ke%204%20Code.ipynb\" target=\"_parent\"><img src=\"https://colab.research.google.com/assets/colab-badge.svg\" alt=\"Open In Colab\"/></a>"
      ]
    },
    {
      "cell_type": "markdown",
      "metadata": {
        "id": "WUi1ks80_z6D"
      },
      "source": [
        "**Weekly Exercise 1**"
      ]
    },
    {
      "cell_type": "code",
      "execution_count": 11,
      "metadata": {
        "id": "exEIQQFk-lbl",
        "colab": {
          "base_uri": "https://localhost:8080/"
        },
        "outputId": "c48b6953-dcd6-448e-c237-db4f6ed86761"
      },
      "outputs": [
        {
          "output_type": "stream",
          "name": "stdout",
          "text": [
            "Umur: 19\n",
            "Kamu boleh membuat SIM\n"
          ]
        }
      ],
      "source": [
        "umur = int(input(\"Umur: \"))\n",
        "if umur >= 17: #Jika yang diisikan sama atau lebih dari, artinya ouput yang dikeluarkan kamu boleh membuat SIM, selain itu belum boleh membuat SIM\n",
        "    print(\"Kamu boleh membuat SIM\")\n",
        "else:\n",
        "    print(\"Kamu belum boleh membuat SIM\")"
      ]
    },
    {
      "cell_type": "markdown",
      "metadata": {
        "id": "UY0tHJMX_4xy"
      },
      "source": [
        "**Weekly Exercise 2**\n"
      ]
    },
    {
      "cell_type": "code",
      "execution_count": 10,
      "metadata": {
        "colab": {
          "base_uri": "https://localhost:8080/"
        },
        "id": "3vL7E6WO-7ND",
        "outputId": "b389266e-4c10-4f5a-d2bc-d38c42de918c"
      },
      "outputs": [
        {
          "output_type": "stream",
          "name": "stdout",
          "text": [
            "nilai :100\n",
            "Grade A\n"
          ]
        }
      ],
      "source": [
        "\n",
        "nilai =int(input(\"nilai :\"))\n",
        "if nilai >= 90:\n",
        "    print(\"Grade A\")\n",
        "elif nilai >= 80:\n",
        "    print(\"Grade B\")\n",
        "elif nilai >= 70:\n",
        "    print(\"Grade B\")\n",
        "elif nilai >= 60:\n",
        "    print(\"Grade C+\")\n",
        "elif nilai >= 50:\n",
        "    print(\"Grade C\")\n",
        "elif nilai >= 40:\n",
        "    print(\"Grade D\")\n",
        "else:\n",
        "    print(\"Grade E\")"
      ]
    },
    {
      "cell_type": "markdown",
      "metadata": {
        "id": "fiaQpHvG_8WC"
      },
      "source": [
        "**Weekly Exercise 3**"
      ]
    },
    {
      "cell_type": "code",
      "execution_count": 12,
      "metadata": {
        "colab": {
          "base_uri": "https://localhost:8080/"
        },
        "id": "xLEJRYdv_W4T",
        "outputId": "49693a80-565a-4423-ad9e-f62e3c5c5b9b"
      },
      "outputs": [
        {
          "output_type": "stream",
          "name": "stdout",
          "text": [
            "Nilai: 100\n",
            "Grade A\n"
          ]
        }
      ],
      "source": [
        "nilai = float(input(\"Nilai: \")) #Bisa di ganti menggunakan float atau int untuk menampilkan angka desimal atau tidak desimal.\n",
        "if 80.00 <= nilai <= 100:\n",
        "        print(\"Grade A\")\n",
        "elif 77.50 <= nilai <= 79.99:\n",
        "        print (\"Grade A-\")\n",
        "elif 75.00 <= nilai <= 77.49:\n",
        "        print(\"Grade A/B\")\n",
        "elif 72.50 <= nilai <= 74.99:\n",
        "        print (\"Grade B+\")\n",
        "elif 70.00 <= nilai <= 72.49:\n",
        "        print (\"Grade B\")\n",
        "elif 67.50 <= nilai <= 69.99:\n",
        "        print (\"Grade B-\")\n",
        "elif 65.00 <= nilai <= 67.49:\n",
        "        print (\"Grade B/C\")\n",
        "elif 62.50 <= nilai <= 64.99:\n",
        "        print (\"Grade C+\")\n",
        "elif 60.00 <= nilai <= 62.49:\n",
        "        print (\"Grade C\")\n",
        "elif 55.00 <= nilai <= 59.99:\n",
        "        print (\"Grade C-\")\n",
        "elif 50.00 <= nilai <= 54.99:\n",
        "        print (\"Grade C/D\")\n",
        "elif 45.00 <= nilai <= 49.99:\n",
        "        print (\"Grade D+\")\n",
        "elif 40.00 <= nilai <= 44.99:\n",
        "        print (\"Grade D\")\n",
        "elif nilai < 40.00:\n",
        "        print (\"E\")\n",
        "else:\n",
        "    print (\"E\")\n"
      ]
    }
  ],
  "metadata": {
    "colab": {
      "provenance": [],
      "authorship_tag": "ABX9TyPgzU/AZPpvZEG5Utu55lfQ",
      "include_colab_link": true
    },
    "kernelspec": {
      "display_name": "Python 3",
      "name": "python3"
    },
    "language_info": {
      "name": "python"
    }
  },
  "nbformat": 4,
  "nbformat_minor": 0
}