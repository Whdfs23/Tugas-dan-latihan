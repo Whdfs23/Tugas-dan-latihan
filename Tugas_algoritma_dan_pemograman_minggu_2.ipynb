{
  "nbformat": 4,
  "nbformat_minor": 0,
  "metadata": {
    "colab": {
      "provenance": []
    },
    "kernelspec": {
      "name": "python3",
      "display_name": "Python 3"
    },
    "language_info": {
      "name": "python"
    }
  },
  "cells": [
    {
      "cell_type": "code",
      "execution_count": null,
      "metadata": {
        "id": "NWq9NxMbFKOC",
        "colab": {
          "base_uri": "https://localhost:8080/"
        },
        "outputId": "05618ef9-398f-4ce0-80d1-ec58f35eb035"
      },
      "outputs": [
        {
          "output_type": "stream",
          "name": "stdout",
          "text": [
            "Nama  : Widyadana Hussin Firmansyah\n",
            "\n",
            "NPM   : 2440506054\n",
            "\n",
            "Alamat: JL. Urip Sumoharjo, Wates Prontaan Rt 04 Rw 04, Kot Magelang, Jawa Tengah\n",
            "\n",
            "Tinggi Badan : 181 cm\n",
            "\n",
            "Berat Badan  : 90 Kg\n",
            "\n"
          ]
        }
      ],
      "source": [
        "print ('''Nama  : Widyadana Hussin Firmansyah\\n\n",
        "NPM   : 2440506054\\n\n",
        "Alamat: JL. Urip Sumoharjo, Wates Prontaan Rt 04 Rw 04, Kot Magelang, Jawa Tengah\\n\n",
        "Tinggi Badan : 181 cm\\n\n",
        "Berat Badan  : 90 Kg\\n''')"
      ]
    },
    {
      "cell_type": "code",
      "source": [
        "print(\"\\033[1mUNIVERSITAR TIDAR\\033[0m\\nUniversitas Tidar Merupakan Perguruan Tinggi Pemerintah atau Perguruan Tinggi Negeri yang telah ditetapkan berdasarkan Peraturan Presiden Republik Indonesia Nomor 23 Tahun 2014 pada tanggal 1 April 2014\\n\")\n",
        "print(\"\\033[1mTEKNIK ELEKTRO\\033[0m \\nJurusan Teknik Elektro terdiri dari 3 jurusan antara lain :\")\n",
        "print ('''\n",
        "1. S1 Teknik Elektro (\\033[3mBachelor of Electrical Engineering\\033[0m)\n",
        "2. S1 Teknologi Informasi (\\033[3mBachelor of Information Technology\\033[0m)\n",
        "3. S1 Teknik Mekatronika (\\033[3mBachelor of  Mecatronics Engineering\\033[0m)''')"
      ],
      "metadata": {
        "colab": {
          "base_uri": "https://localhost:8080/"
        },
        "id": "67LCrQ_mfqVW",
        "outputId": "8f928682-0c48-4a44-df18-a5e45c9724e9"
      },
      "execution_count": null,
      "outputs": [
        {
          "output_type": "stream",
          "name": "stdout",
          "text": [
            "\u001b[1mUNIVERSITAR TIDAR\u001b[0m\n",
            "Universitas Tidar Merupakan Perguruan Tinggi Pemerintah atau Perguruan Tinggi Negeri yang telah ditetapkan berdasarkan Peraturan Presiden Republik Indonesia Nomor 23 Tahun 2014 pada tanggal 1 April 2014\n",
            "\n",
            "\u001b[1mTEKNIK ELEKTRO\u001b[0m \n",
            "Jurusan Teknik Elektro terdiri dari 3 jurusan antara lain :\n",
            " \n",
            "1. S1 Teknik Elektro (\u001b[3mBachelor of Electrical Engineering\u001b[0m)\n",
            "2. S1 Teknologi Informasi (\u001b[3mBachelor of Information Technology\u001b[0m)\n",
            "3. S1 Teknik Mekatronika (\u001b[3mBachelor of  Mecatronics Engineering\u001b[0m)\n"
          ]
        }
      ]
    },
    {
      "cell_type": "code",
      "source": [
        "#contoh lain\n",
        "print (\"Nama             : Widyadana Hussin Firmansyah\")\n",
        "print()\n",
        "print (\"NPM              : 2440506054\")\n",
        "print()\n",
        "print (\"Alamat           : JL. Urip Sumoharjo, Magelang, Jawa Tengah\")\n",
        "print()\n",
        "print (\"Tinggi badan     : 181\")\n",
        "print()\n",
        "print (\"Berat Badan      : 90\")"
      ],
      "metadata": {
        "colab": {
          "base_uri": "https://localhost:8080/"
        },
        "id": "pCVF0zQQRG15",
        "outputId": "2e1cc85e-24e9-4036-95f2-bde27778afca"
      },
      "execution_count": null,
      "outputs": [
        {
          "output_type": "stream",
          "name": "stdout",
          "text": [
            "Nama             : Widyadana Hussin Firmansyah\n",
            "\n",
            "NPM              : 2440506054\n",
            "\n",
            "Alamat           : JL. Urip Sumoharjo, Magelang, Jawa Tengah\n",
            "\n",
            "Tinggi badan     : 181\n",
            "\n",
            "Berat Badan      : 90\n"
          ]
        }
      ]
    },
    {
      "cell_type": "code",
      "source": [
        "#contoh lain tugas ke 2 biodata\n",
        "from rich import print\n",
        "print ('[bold]UNIVERSITAS TIDAR[/bold]')\n",
        "print ('universitas Tidar Merupakan Perguruan Tinggi Pemerintah atau Perguruan Tinggi Negeri yang telah ditetapkan berdasarkan Peraturan Presiden Republik Indonesia Nomor 23 Tahun 2014 pada tanggal 1 April 2014\\n')\n",
        "\n",
        "print ('[bold]JURUSAN TEKNIK ELEKTRO[/bold]')\n",
        "print ('Jurusan Teknik Elektro terdiri dari atas tiga program studi, antara lain:\\n')\n",
        "print ('1. S1 Teknik Elektro ([i]Bachelor of Elektrical Engineering[/i])')\n",
        "print ('2. S1 Teknologi Informasi ([i]Bachelor of Information Technology[/i])')\n",
        "print ('3. S1 Teknik Mekatronika ([i]Bachelor of Mechatornics Engineering[/i])')"
      ],
      "metadata": {
        "id": "4DnlyZ7NRiDj"
      },
      "execution_count": null,
      "outputs": []
    }
  ]
}