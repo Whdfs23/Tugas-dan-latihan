{
  "nbformat": 4,
  "nbformat_minor": 0,
  "metadata": {
    "colab": {
      "provenance": [],
      "authorship_tag": "ABX9TyO/+dav7bDDxhQLh6v4IH3b",
      "include_colab_link": true
    },
    "kernelspec": {
      "name": "python3",
      "display_name": "Python 3"
    },
    "language_info": {
      "name": "python"
    }
  },
  "cells": [
    {
      "cell_type": "markdown",
      "metadata": {
        "id": "view-in-github",
        "colab_type": "text"
      },
      "source": [
        "<a href=\"https://colab.research.google.com/github/Whdfs23/Tugas-dan-latihan/blob/main/Laporan_minggu_Ke_11.ipynb\" target=\"_parent\"><img src=\"https://colab.research.google.com/assets/colab-badge.svg\" alt=\"Open In Colab\"/></a>"
      ]
    },
    {
      "cell_type": "code",
      "execution_count": null,
      "metadata": {
        "id": "nqJPdo5QazTa"
      },
      "outputs": [],
      "source": [
        "# Ini Untuk Mengimpor sebuah modul matematika\n",
        "import matematika\n",
        "\n",
        "# Untuk Menghitung luas lingkaran menggunakan cara seperti ini :\n",
        "jari_jari = float(input(\"Masukkan jari-jari lingkaran: \"))\n",
        "luas_lingkaran = matematika.hitung_luas_lingkaran(jari_jari)\n",
        "print(f\"Luas lingkaran dengan jari-jari {jari_jari} adalah: {luas_lingkaran}\")\n",
        "\n",
        "# Untuk Menghitung luas persegi bisa menggunakan cara seperti ini :\n",
        "sisi = float(input(\"Masukkan panjang sisi persegi: \"))\n",
        "luas_persegi = matematika.hitung_luas_persegi(sisi)\n",
        "print(f\"Luas persegi dengan sisi {sisi} adalah: {luas_persegi}\")"
      ]
    },
    {
      "cell_type": "code",
      "source": [
        "PI = 3.14159\n",
        "\n",
        "def hitung_luas_lingkaran(jari_jari):\n",
        "    \"\"\"Menghitung luas lingkaran berdasarkan jari-jari.\"\"\"\n",
        "    return PI * (jari_jari ** 2)\n",
        "\n",
        "def hitung_luas_persegi(sisi):\n",
        "    \"\"\"Menghitung luas persegi berdasarkan panjang sisi.\"\"\"\n",
        "    return sisi ** 2\n",
        "\n",
        "def hitung_luas_persegi_panjang(panjang, lebar):\n",
        "    \"\"\"Menghitung luas persegi panjang berdasarkan panjang dan lebar.\"\"\"\n",
        "    return panjang * lebar"
      ],
      "metadata": {
        "id": "hv6rGulEbH_b"
      },
      "execution_count": null,
      "outputs": []
    },
    {
      "cell_type": "code",
      "source": [
        "import math\n",
        "\n",
        "# 1. Menghitung akar kuadrat\n",
        "angka = 16\n",
        "akar_kuadrat = math.sqrt(angka)\n",
        "print(f\"Akar kuadrat dari {angka} adalah: {akar_kuadrat}\")\n",
        "\n",
        "# 2. Menghitung nilai pi\n",
        "nilai_pi = math.pi\n",
        "print(f\"Nilai pi adalah: {nilai_pi}\")\n",
        "\n",
        "# 3. Menghitung sinus dari sudut (dalam radian)\n",
        "sudut = 30  # dalam derajat\n",
        "sudut_radian = math.radians(sudut)  # konversi derajat ke radian\n",
        "sinus = math.sin(sudut_radian)\n",
        "print(f\"Sinus dari {sudut} derajat adalah: {sinus}\")\n",
        "\n",
        "# 4. Menghitung eksponen\n",
        "angka_eksponen = 2\n",
        "eksponen = math.exp(angka_eksponen)\n",
        "print(f\"Eksponen dari {angka_eksponen} adalah: {eksponen}\")\n",
        "\n",
        "# 5. Menghitung faktoriel\n",
        "angka_faktoriel = 5\n",
        "faktoriel = math.factorial(angka_faktoriel)\n",
        "print(f\"Faktoriel dari {angka_faktoriel} adalah: {faktoriel}\")"
      ],
      "metadata": {
        "id": "tOJiUrl_kewH"
      },
      "execution_count": null,
      "outputs": []
    }
  ]
}