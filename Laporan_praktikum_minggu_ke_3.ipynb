{
  "nbformat": 4,
  "nbformat_minor": 0,
  "metadata": {
    "colab": {
      "provenance": [],
      "authorship_tag": "ABX9TyNyhb2scd09s+MzVt2dQqy0",
      "include_colab_link": true
    },
    "kernelspec": {
      "name": "python3",
      "display_name": "Python 3"
    },
    "language_info": {
      "name": "python"
    }
  },
  "cells": [
    {
      "cell_type": "markdown",
      "metadata": {
        "id": "view-in-github",
        "colab_type": "text"
      },
      "source": [
        "<a href=\"https://colab.research.google.com/github/Whdfs23/Tugas-dan-latihan/blob/main/Laporan_praktikum_minggu_ke_3.ipynb\" target=\"_parent\"><img src=\"https://colab.research.google.com/assets/colab-badge.svg\" alt=\"Open In Colab\"/></a>"
      ]
    },
    {
      "cell_type": "code",
      "source": [
        "!mkdir -p /resources/data/Biodata.txt"
      ],
      "metadata": {
        "colab": {
          "base_uri": "https://localhost:8080/"
        },
        "id": "HftBd1QYT5pP",
        "outputId": "347a074f-ed32-4dd1-ea06-2ee2126a4264"
      },
      "execution_count": null,
      "outputs": [
        {
          "output_type": "stream",
          "name": "stdout",
          "text": [
            "mkdir: cannot create directory ‘/resources/data/Biodata.txt’: File exists\n"
          ]
        }
      ]
    },
    {
      "cell_type": "code",
      "source": [
        "with open('/resources/data/Biodata.txt', 'w') as f:\n",
        "    f.write(\"Nama : Widyadana Hussin Firmansyah\\n\")\n",
        "    f.write(\"NPM  : 2440506054\\n\")\n",
        "    f.write(\"Program Studi : Teknologi Informasi\\n\")\n",
        "    f.write(\"Alamat : Wates Prontaan, Magelang\\n\")\n",
        "    f.write(\"Hobi : Bermain Game, Membaca\\n\")\n",
        "    f.write(\"Email: danarhusain@gmail.com\\n\")\n",
        "with open('/resources/data/Biodata.txt', 'r') as f:\n",
        "    print(f.read())"
      ],
      "metadata": {
        "colab": {
          "base_uri": "https://localhost:8080/"
        },
        "id": "zNKgiDGnUHxS",
        "outputId": "263558df-4d95-4e96-d28c-145550901f65"
      },
      "execution_count": null,
      "outputs": [
        {
          "output_type": "stream",
          "name": "stdout",
          "text": [
            "Nama : Widyadana Hussin Firmansyah\n",
            "NPM  : 2440506054\n",
            "Program Studi : Teknologi Informasi\n",
            "Alamat : Wates Prontaan, Magelang\n",
            "Hobi : Bermain Game, Membaca\n",
            "Email: danarhusain@gmail.com\n",
            "\n"
          ]
        }
      ]
    },
    {
      "cell_type": "code",
      "source": [
        "  # Membaca file biodata.txt dan menampilkan nama, program studi, dan email\n",
        "with open('/resources/data/Biodata.txt', 'r') as f:\n",
        "\n",
        "    for line in f:\n",
        "        if \"Nama\" in line or \"Program Studi\" in line or \"Email\" in line or \"NPM\"in line or \"Alamat in line\" or \"Hobi\" in line or \"Email\" in line:\n",
        "            print(line.strip())\n"
      ],
      "metadata": {
        "colab": {
          "base_uri": "https://localhost:8080/"
        },
        "id": "-hcrEOJrWABF",
        "outputId": "22ac8ba9-5362-46aa-b0c9-4185410cb117"
      },
      "execution_count": null,
      "outputs": [
        {
          "output_type": "stream",
          "name": "stdout",
          "text": [
            "Nama : Widyadana Hussin Firmansyah\n",
            "NPM  : 2440506054\n",
            "Program Studi : Teknologi Informasi\n",
            "Alamat : Wates Prontaan, Magelang\n",
            "Hobi : Bermain Game, Membaca\n",
            "Email: danarhusain@gmail.com\n"
          ]
        }
      ]
    },
    {
      "cell_type": "code",
      "source": [
        "# Membaca file biodata.txt, mengambil data, dan menyimpan dalam file baru\n",
        "with open('/resources/data/Biodata.txt', 'r') as f:\n",
        "    lines = f.readlines()\n",
        "    with open('/resources/data/Biodata2.txt', 'w') as f2:\n",
        "        for line in lines:\n",
        "            f2.write(line)\n",
        "\n",
        "with open('/resources/data/Biodata2.txt', 'r') as f2:\n",
        "    for line in f2:\n",
        "        if \"Nama\" in line or \"Program Studi\" in line or \"Email\" in line or \"NPM\" in line or \"Email\" or \"Alamat\" in line or \"Hobi\":\n",
        "            print(line.strip())\n"
      ],
      "metadata": {
        "colab": {
          "base_uri": "https://localhost:8080/"
        },
        "id": "AKwiDOyNZjB7",
        "outputId": "484d2768-741b-421a-9cc6-2da3fd58d9ae"
      },
      "execution_count": null,
      "outputs": [
        {
          "output_type": "stream",
          "name": "stdout",
          "text": [
            "Nama : Widyadana Hussin Firmansyah\n",
            "NPM  : 2440506054\n",
            "Program Studi : Teknologi Informasi\n",
            "Alamat : Wates Prontaan, Magelang\n",
            "Hobi : Bermain Game, Membaca\n",
            "Email: danarhusain@gmail.com\n"
          ]
        }
      ]
    },
    {
      "cell_type": "code",
      "source": [
        "#BAGIAN YANG PERLU DIPERBAIKI\n",
        "# print (\"Selamat datang di Toko Maju Jaya\")\n",
        "# print \"Senin, 4 September 2023       13.05\")\n",
        "# print(\" \"\n",
        "# print \"DAFTAR BELANJA:\")\n",
        "# item1 = \"Sabun\"\n",
        "# item2 = 'Shampo'\n",
        "# item3 = Mie instant\n",
        "# item4 = Detergen\n",
        "# harga1 = Rp 10000\n",
        "# harga2 = 15000\n",
        "# harga3 = Rp 5000\n",
        "# harga4 = 17500\n",
        "# total = hargga1+harga2+hargga3+harga\n",
        "# print(item1,          = Rp  + harga1)\n",
        "# print(item2, '        = Rp '+ harga2)\n",
        "# print(item3,    = Rp + har\n",
        "\n",
        "print(\"Selamat datang di Toko Maju Jaya\")\n",
        "print(\"Senin, 4 September 2023       13.05\")\n",
        "print(\" \")\n",
        "\n",
        "print(\"DAFTAR BELANJA:\")\n",
        "item1 = \"Sabun\"  # Tambahkan quote \"Sabun\"\n",
        "item2 = \"Shampo\"  # Tambahkan quote \"Shampo\"\n",
        "item3 = \"Mie instant\"  # Tambahkan quote dalam mie instan \"Mie instant\"\n",
        "item4 = \"Detergen\"  # Tambahkan quote \"Detergen\"\n",
        "harga1 = 10000  # Hilangkan  \"Rp\" karena itu termasuk str bukan int\n",
        "harga2 = 15000  # Hilangkan \"Rp\"\n",
        "harga3 = 5000  # Pada bagian ini juga hilangkan \"Rp\"\n",
        "harga4 = 17500  # Hilangkan \"Rp\"\n",
        "\n",
        "total = harga1 + harga2 + harga3 + harga4  # Mengkoreksi Nama Variable\n",
        "\n",
        "print(item1 + \"          = Rp \" + str(harga1))\n",
        "print(item2 + '        = Rp ' + str(harga2))\n",
        "print(item3 + \"    = Rp \" + str(harga3))\n",
        "print(item4 + \"       = Rp \" + str(harga4))\n",
        "\n",
        "print(\" \")\n",
        "print(\"Total = Rp \" + str(total))\n",
        "\n",
        "with open('Kuitansi.txt', 'w') as writefile:\n",
        "    writefile.write(\"Selamat Datang di Toko Maju Jaya\\n\")\n",
        "    writefile.write(\" \\n\")\n",
        "    writefile.write(\"Kuitansi - 4 September 2023\\n\")\n",
        "    writefile.write(\" \\n\")\n",
        "    writefile.write(item1 + \" = Rp \" + str(harga1) + \"\\n\")\n",
        "    writefile.write(item2 + \" = Rp \" + str(harga2) + \"\\n\")\n",
        "    writefile.write(item3 + \" = Rp \" + str(harga3) + \"\\n\")\n",
        "    writefile.write(item4 + \" = Rp \" + str(harga4) + \"\\n\")\n",
        "    writefile.write(\" \\n\")\n",
        "    writefile.write(\"Total Belanja = \" + str(total) + \"\\n\")\n"
      ],
      "metadata": {
        "colab": {
          "base_uri": "https://localhost:8080/"
        },
        "id": "BSvDn4B9z9-z",
        "outputId": "4d1dc1d1-cf53-4607-8bef-fc9357a44a4b"
      },
      "execution_count": null,
      "outputs": [
        {
          "output_type": "stream",
          "name": "stdout",
          "text": [
            "Selamat datang di Toko Maju Jaya\n",
            "Senin, 4 September 2023       13.05\n",
            " \n",
            "DAFTAR BELANJA:\n",
            "Sabun          = Rp 10000\n",
            "Shampo        = Rp 15000\n",
            "Mie instant    = Rp 5000\n",
            "Detergen       = Rp 17500\n",
            " \n",
            "Total = Rp 47500\n"
          ]
        }
      ]
    }
  ]
}